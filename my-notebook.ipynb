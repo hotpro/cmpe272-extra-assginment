{
 "cells": [
  {
   "cell_type": "markdown",
   "metadata": {
    "collapsed": true
   },
   "source": [
    "## Load Data\n",
    "Set the Hadoop configuration."
   ]
  },
  {
   "cell_type": "code",
   "execution_count": 34,
   "metadata": {
    "collapsed": false
   },
   "outputs": [],
   "source": [
    "def set_hadoop_config(credentials):\n",
    "    prefix = \"fs.swift.service.\" + credentials['name'] \n",
    "    hconf = sc._jsc.hadoopConfiguration()\n",
    "    hconf.set(prefix + \".auth.url\", credentials['auth_url']+'/v2.0/tokens')\n",
    "    hconf.set(prefix + \".auth.endpoint.prefix\", \"endpoints\")\n",
    "    hconf.set(prefix + \".tenant\", credentials['project_id'])\n",
    "    hconf.set(prefix + \".username\", credentials['user_id'])\n",
    "    hconf.set(prefix + \".password\", credentials['password'])\n",
    "    hconf.setInt(prefix + \".http.port\", 8080)\n",
    "    hconf.set(prefix + \".region\", credentials['region'])\n",
    "    hconf.setBoolean(prefix + \".public\", True)"
   ]
  },
  {
   "cell_type": "code",
   "execution_count": 35,
   "metadata": {
    "collapsed": true
   },
   "outputs": [],
   "source": [
    "credentials = {}\n",
    "credentials['name'] = 'keystone'\n",
    "credentials['auth_url'] = 'https://identity.open.softlayer.com'\n",
    "credentials['project_id'] = '7478035080e04c179e6629b03e72b0fb'\n",
    "credentials['region'] = 'dallas'\n",
    "credentials['user_id'] = '834fc7a5dfdd44a4a7a9902e23124365'\n",
    "credentials['password'] = 'v3XC6Ru[Y!Oa-uxb'"
   ]
  },
  {
   "cell_type": "code",
   "execution_count": 36,
   "metadata": {
    "collapsed": true
   },
   "outputs": [],
   "source": [
    "set_hadoop_config(credentials)"
   ]
  },
  {
   "cell_type": "code",
   "execution_count": 37,
   "metadata": {
    "collapsed": true
   },
   "outputs": [],
   "source": [
    "data = sc.textFile(\"swift://notebooks.keystone/NYPD_Motor_Vehicle_Collisions.csv\")"
   ]
  },
  {
   "cell_type": "markdown",
   "metadata": {},
   "source": [
    "## Parse Data"
   ]
  },
  {
   "cell_type": "code",
   "execution_count": 38,
   "metadata": {
    "collapsed": true
   },
   "outputs": [],
   "source": [
    "dataParse = data.map(lambda line : line.split(\",\"))"
   ]
  },
  {
   "cell_type": "markdown",
   "metadata": {},
   "source": [
    "## Clean Data"
   ]
  },
  {
   "cell_type": "code",
   "execution_count": 39,
   "metadata": {
    "collapsed": true
   },
   "outputs": [],
   "source": [
    "dataParse = dataParse.filter(lambda x: len(x) > 19 and x[19] and x[19] != \"Unspecified\")"
   ]
  },
  {
   "cell_type": "code",
   "execution_count": 40,
   "metadata": {
    "collapsed": false
   },
   "outputs": [],
   "source": [
    "# dataParse.top(10)\n",
    "# len(dataParse.first())"
   ]
  },
  {
   "cell_type": "markdown",
   "metadata": {},
   "source": [
    "## Explore Data\n",
    "Accident Data Values"
   ]
  },
  {
   "cell_type": "code",
   "execution_count": 41,
   "metadata": {
    "collapsed": false
   },
   "outputs": [],
   "source": [
    "# x[19] CONTRIBUTING FACTOR VEHICLE 1\n",
    "crashByKey = dataParse.map(lambda x : (x[19], 1))"
   ]
  },
  {
   "cell_type": "code",
   "execution_count": 42,
   "metadata": {
    "collapsed": false
   },
   "outputs": [
    {
     "data": {
      "text/plain": [
       "[(u'Windshield Inadequate', 1),\n",
       " (u'Windshield Inadequate', 1),\n",
       " (u'Windshield Inadequate', 1),\n",
       " (u'Windshield Inadequate', 1),\n",
       " (u'Windshield Inadequate', 1),\n",
       " (u'Windshield Inadequate', 1),\n",
       " (u'Windshield Inadequate', 1),\n",
       " (u'Windshield Inadequate', 1),\n",
       " (u'Windshield Inadequate', 1),\n",
       " (u'Windshield Inadequate', 1)]"
      ]
     },
     "execution_count": 42,
     "metadata": {},
     "output_type": "execute_result"
    }
   ],
   "source": [
    "crashByKey.top(10)"
   ]
  },
  {
   "cell_type": "code",
   "execution_count": 43,
   "metadata": {
    "collapsed": true
   },
   "outputs": [],
   "source": [
    "crashReducedByKey = crashByKey.reduceByKey(lambda v1,v2 : v1 + v2)"
   ]
  },
  {
   "cell_type": "code",
   "execution_count": 44,
   "metadata": {
    "collapsed": false
   },
   "outputs": [
    {
     "name": "stdout",
     "output_type": "stream",
     "text": [
      "Reason Driver Inattention/Distraction had crashes of 75452\n",
      "Reason Fatigued/Drowsy had crashes of 34635\n",
      "Reason Failure to Yield Right-of-Way had crashes of 26968\n",
      "Reason Other Vehicular had crashes of 22394\n",
      "Reason Backing Unsafely had crashes of 16744\n",
      "Reason Turning Improperly had crashes of 15235\n",
      "Reason Lost Consciousness had crashes of 15003\n",
      "Reason Prescription Medication had crashes of 12041\n",
      "Reason Traffic Control Disregarded had crashes of 7734\n",
      "Reason Driver Inexperience had crashes of 7711\n"
     ]
    }
   ],
   "source": [
    "crashTop10=[]\n",
    "boroughTop10=[]\n",
    "for pair in crashReducedByKey.map(lambda (x,y) : (y,x)).top(10):\n",
    "    crashTop10.append(pair[0])\n",
    "    boroughTop10.append(pair[1])\n",
    "    print \"Reason %s had crashes of %d\" % (pair[1],pair[0])"
   ]
  },
  {
   "cell_type": "code",
   "execution_count": 45,
   "metadata": {
    "collapsed": false
   },
   "outputs": [
    {
     "data": {
      "image/png": "[encoded data removed]",
      "text/plain": [
       "<matplotlib.figure.Figure at 0x7fb9907df050>"
      ]
     },
     "metadata": {},
     "output_type": "display_data"
    }
   ],
   "source": [
    "%matplotlib inline\n",
    "import numpy as np\n",
    "import matplotlib.pyplot as plt\n",
    "\n",
    "N = 10\n",
    "index = np.arange(N)  \n",
    "bar_width = 0.5\n",
    "\n",
    "plt.bar(index, crashTop10, bar_width,\n",
    "                 color='b')\n",
    "plt.xlabel('Reasons')\n",
    "plt.ylabel('Crashes')\n",
    "plt.title('10 stations with the highest crashes')\n",
    "plt.xticks(index + bar_width, boroughTop10, rotation=90)\n",
    "plt.show()"
   ]
  },
  {
   "cell_type": "code",
   "execution_count": null,
   "metadata": {
    "collapsed": true
   },
   "outputs": [],
   "source": []
  }
 ],
 "metadata": {
  "kernelspec": {
   "display_name": "Python 2",
   "language": "python",
   "name": "python2"
  },
  "language_info": {
   "codemirror_mode": {
    "name": "ipython",
    "version": 2
   },
   "file_extension": ".py",
   "mimetype": "text/x-python",
   "name": "python",
   "nbconvert_exporter": "python",
   "pygments_lexer": "ipython2",
   "version": "2.7.9"
  }
 },
 "nbformat": 4,
 "nbformat_minor": 0
}